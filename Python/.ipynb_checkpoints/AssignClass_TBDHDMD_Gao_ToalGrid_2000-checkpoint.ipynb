{
 "cells": [
  {
   "cell_type": "code",
   "execution_count": 2,
   "metadata": {},
   "outputs": [
    {
     "name": "stdout",
     "output_type": "stream",
     "text": [
      "---------------At Year 2000----------------\n",
      "[2.6917900e+05 1.2662410e+06 2.4148000e+04 2.4360432e+07]\n",
      "1141.325698375702\n"
     ]
    }
   ],
   "source": [
    "\"\"\"\n",
    "Assign TBD, MD, and HD urban classes \n",
    "@author: Keer Zhang\n",
    "\"\"\"\n",
    "import numpy as np\n",
    "import netCDF4 as nc \n",
    "import time\n",
    "\n",
    "t0 = time.time()\n",
    "# load the default CLM surface data (Jackson)\n",
    "CLM2000=nc.Dataset('/glade/p/cesm/cseg/inputdata/lnd/clm2/rawdata/mksrf_urban_0.05x0.05_simyr2000.c170724.nc')\n",
    "REGION_IDNew=CLM2000.variables[\"REGION_ID\"][:]\n",
    "REGION_IDNew3=np.tile(REGION_IDNew,(3,1,1))\n",
    "UrbanDensityCLM=CLM2000.variables[\"PCT_URBAN\"][:,:,:]\n",
    "\n",
    "# calculate the mean HMRatio for each urban region\n",
    "HMRatio=np.zeros(33)\n",
    "for j in range(1,34):\n",
    "    UrbanDensitySub=np.ma.masked_where(REGION_IDNew3!=j,UrbanDensityCLM)\n",
    "    HD=np.sum(UrbanDensitySub[1])\n",
    "    MD=np.sum(UrbanDensitySub[2])\n",
    "    HMRatio[j-1]=HD/MD\n",
    "\n",
    "NewRaw2020OriThisDecade = nc.Dataset('/glade/scratch/keerzhang/THESIS_pcturb_grid/urban_properties_180622_release/Output/SSP1/urban_properties_data.05deg_2000_c20220910.nc')#   \n",
    "PCT_URBAN_NewThisDecade=np.nansum(NewRaw2020OriThisDecade.variables[\"PCT_URBAN\"][:,:,:],axis=0)\n",
    "PCT_URBAN_NewThisDecadeNoDown=PCT_URBAN_NewThisDecade\n",
    "\n",
    "# Devide the total Gao & Oneil urban areas into TBD, HD, MD\n",
    "# Assumption: if there is urban areas in both Jackson data and Gao & Oneil data, use the same TBD/HD/MD ratio\n",
    "# if there is urban areas in Gao & Oneil data but no urban in Jackson data, use the mean HD/MD ratio of that urban region\n",
    "# if there is no urban in Gao & Oneil data, PCT_URBAN = 0   \n",
    "UrbanDensityNew=np.zeros(UrbanDensityCLM.shape)\n",
    "ANum=np.zeros(4)\n",
    "for j in range(0,UrbanDensityCLM.shape[1]):\n",
    "    for k in range(0,UrbanDensityCLM.shape[2]):\n",
    "        GridCLM=UrbanDensityCLM[:,j,k]\n",
    "        TotalNew=PCT_URBAN_NewThisDecadeNoDown[j,k]\n",
    "        if np.sum(GridCLM)>0 and TotalNew>0:\n",
    "            UrbanDensityNew[:,j,k]=TotalNew*GridCLM/np.sum(GridCLM)\n",
    "            ANum[0]=ANum[0]+1\n",
    "        elif np.sum(GridCLM)==0 and TotalNew>0:\n",
    "            ID=REGION_IDNew[j,k]\n",
    "            UrbanDensityNew[1,j,k]=TotalNew*HMRatio[ID-1]/(HMRatio[ID-1]+1)\n",
    "            UrbanDensityNew[2,j,k]=TotalNew/(HMRatio[ID-1]+1)\n",
    "            ANum[1]=ANum[1]+1\n",
    "        elif np.sum(GridCLM)>0 and TotalNew==0:\n",
    "            ANum[2]=ANum[2]+1\n",
    "            UrbanDensityNew[:,j,k]=0.0\n",
    "        elif np.sum(GridCLM)==0 and TotalNew==0:\n",
    "            ANum[3]=ANum[3]+1\n",
    "            UrbanDensityNew[:,j,k]=0.0\n",
    "\n",
    "NewRaw2020Adjusted = nc.Dataset('/glade/scratch/keerzhang/THESIS_pcturb_grid/urban_properties_180622_release/Output/SSP1/urban_properties_GaoOneil_05deg_ThreeClass_2000_c20220910.nc', 'r+', format='NETCDF4_CLASSIC')# \n",
    "NewRaw2020Adjusted.variables[\"PCT_URBAN\"][:,:,:]=UrbanDensityNew[:,:,:]\n",
    "NewRaw2020Adjusted.title=\"0.05 deg urban raw data (Gao & O'neil)\"\n",
    "NewRaw2020Adjusted.comment=\"PCT_URBAN was calculated with repect to the total grid cell.\"\n",
    "NewRaw2020Adjusted.close()\n",
    "\n",
    "t1 = time.time()\n",
    "total = t1-t0             \n",
    "print('---------------At Year 2000----------------')\n",
    "print(ANum)\n",
    "print(total)"
   ]
  },
  {
   "cell_type": "code",
   "execution_count": null,
   "metadata": {},
   "outputs": [],
   "source": []
  }
 ],
 "metadata": {
  "kernelspec": {
   "display_name": "Python 3",
   "language": "python",
   "name": "python3"
  },
  "language_info": {
   "codemirror_mode": {
    "name": "ipython",
    "version": 3
   },
   "file_extension": ".py",
   "mimetype": "text/x-python",
   "name": "python",
   "nbconvert_exporter": "python",
   "pygments_lexer": "ipython3",
   "version": "3.6.8"
  }
 },
 "nbformat": 4,
 "nbformat_minor": 4
}
