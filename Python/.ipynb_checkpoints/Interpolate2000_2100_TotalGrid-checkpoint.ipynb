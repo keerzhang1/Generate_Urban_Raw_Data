{
 "cells": [
  {
   "cell_type": "code",
   "execution_count": 3,
   "metadata": {},
   "outputs": [
    {
     "ename": "KeyboardInterrupt",
     "evalue": "",
     "output_type": "error",
     "traceback": [
      "\u001b[0;31m---------------------------------------------------------------------------\u001b[0m",
      "\u001b[0;31mKeyboardInterrupt\u001b[0m                         Traceback (most recent call last)",
      "\u001b[0;32m<ipython-input-3-7af7c1fc3d88>\u001b[0m in \u001b[0;36m<module>\u001b[0;34m\u001b[0m\n\u001b[1;32m     15\u001b[0m         \u001b[0mNewRawLastDecade\u001b[0m \u001b[0;34m=\u001b[0m \u001b[0mnc\u001b[0m\u001b[0;34m.\u001b[0m\u001b[0mDataset\u001b[0m\u001b[0;34m(\u001b[0m\u001b[0;34m'/glade/scratch/keerzhang/THESIS_pcturb_grid/urban_properties_180622_release/Output/SSP'\u001b[0m\u001b[0;34m+\u001b[0m\u001b[0mScenario\u001b[0m\u001b[0;34m+\u001b[0m\u001b[0;34m'/urban_properties_GaoOneil_05deg_ThreeClass_ssp'\u001b[0m\u001b[0;34m+\u001b[0m\u001b[0mScenario\u001b[0m\u001b[0;34m+\u001b[0m\u001b[0;34m'_2'\u001b[0m\u001b[0;34m+\u001b[0m\u001b[0mstr\u001b[0m\u001b[0;34m(\u001b[0m\u001b[0mi\u001b[0m\u001b[0;34m-\u001b[0m\u001b[0;36m1\u001b[0m\u001b[0;34m)\u001b[0m\u001b[0;34m.\u001b[0m\u001b[0mzfill\u001b[0m\u001b[0;34m(\u001b[0m\u001b[0;36m2\u001b[0m\u001b[0;34m)\u001b[0m\u001b[0;34m+\u001b[0m\u001b[0;34m'0_c20220910.nc'\u001b[0m\u001b[0;34m)\u001b[0m\u001b[0;34m\u001b[0m\u001b[0;34m\u001b[0m\u001b[0m\n\u001b[1;32m     16\u001b[0m \u001b[0;34m\u001b[0m\u001b[0m\n\u001b[0;32m---> 17\u001b[0;31m         \u001b[0mPCT_URBAN_ThisDecade\u001b[0m\u001b[0;34m=\u001b[0m\u001b[0mNewRawThisDecade\u001b[0m\u001b[0;34m.\u001b[0m\u001b[0mvariables\u001b[0m\u001b[0;34m[\u001b[0m\u001b[0;34m\"PCT_URBAN\"\u001b[0m\u001b[0;34m]\u001b[0m\u001b[0;34m[\u001b[0m\u001b[0;34m:\u001b[0m\u001b[0;34m,\u001b[0m\u001b[0;34m:\u001b[0m\u001b[0;34m,\u001b[0m\u001b[0;34m:\u001b[0m\u001b[0;34m]\u001b[0m \u001b[0;31m# this decade\u001b[0m\u001b[0;34m\u001b[0m\u001b[0;34m\u001b[0m\u001b[0m\n\u001b[0m\u001b[1;32m     18\u001b[0m         \u001b[0mPCT_URBAN_LastDecade\u001b[0m\u001b[0;34m=\u001b[0m\u001b[0mNewRawLastDecade\u001b[0m\u001b[0;34m.\u001b[0m\u001b[0mvariables\u001b[0m\u001b[0;34m[\u001b[0m\u001b[0;34m\"PCT_URBAN\"\u001b[0m\u001b[0;34m]\u001b[0m\u001b[0;34m[\u001b[0m\u001b[0;34m:\u001b[0m\u001b[0;34m,\u001b[0m\u001b[0;34m:\u001b[0m\u001b[0;34m,\u001b[0m\u001b[0;34m:\u001b[0m\u001b[0;34m]\u001b[0m \u001b[0;31m# last decade\u001b[0m\u001b[0;34m\u001b[0m\u001b[0;34m\u001b[0m\u001b[0m\n\u001b[1;32m     19\u001b[0m         \u001b[0;32mif\u001b[0m \u001b[0mi\u001b[0m\u001b[0;34m==\u001b[0m\u001b[0;36m2\u001b[0m\u001b[0;34m:\u001b[0m \u001b[0;31m#calculate urban raw data from 2015 to 2020\u001b[0m\u001b[0;34m\u001b[0m\u001b[0;34m\u001b[0m\u001b[0m\n",
      "\u001b[0;32mnetCDF4/_netCDF4.pyx\u001b[0m in \u001b[0;36mnetCDF4._netCDF4.Variable.__getitem__\u001b[0;34m()\u001b[0m\n",
      "\u001b[0;32mnetCDF4/_netCDF4.pyx\u001b[0m in \u001b[0;36mnetCDF4._netCDF4.Variable._toma\u001b[0;34m()\u001b[0m\n",
      "\u001b[0;32m/gpfs/u/apps/dav/opt/python/3.6.8/gnu/7.3.0/pkg-library/20200417/lib/python3.6/site-packages/numpy/core/_methods.py\u001b[0m in \u001b[0;36m_any\u001b[0;34m(a, axis, dtype, out, keepdims)\u001b[0m\n\u001b[1;32m     42\u001b[0m     \u001b[0;32mreturn\u001b[0m \u001b[0mumr_prod\u001b[0m\u001b[0;34m(\u001b[0m\u001b[0ma\u001b[0m\u001b[0;34m,\u001b[0m \u001b[0maxis\u001b[0m\u001b[0;34m,\u001b[0m \u001b[0mdtype\u001b[0m\u001b[0;34m,\u001b[0m \u001b[0mout\u001b[0m\u001b[0;34m,\u001b[0m \u001b[0mkeepdims\u001b[0m\u001b[0;34m,\u001b[0m \u001b[0minitial\u001b[0m\u001b[0;34m,\u001b[0m \u001b[0mwhere\u001b[0m\u001b[0;34m)\u001b[0m\u001b[0;34m\u001b[0m\u001b[0;34m\u001b[0m\u001b[0m\n\u001b[1;32m     43\u001b[0m \u001b[0;34m\u001b[0m\u001b[0m\n\u001b[0;32m---> 44\u001b[0;31m \u001b[0;32mdef\u001b[0m \u001b[0m_any\u001b[0m\u001b[0;34m(\u001b[0m\u001b[0ma\u001b[0m\u001b[0;34m,\u001b[0m \u001b[0maxis\u001b[0m\u001b[0;34m=\u001b[0m\u001b[0;32mNone\u001b[0m\u001b[0;34m,\u001b[0m \u001b[0mdtype\u001b[0m\u001b[0;34m=\u001b[0m\u001b[0;32mNone\u001b[0m\u001b[0;34m,\u001b[0m \u001b[0mout\u001b[0m\u001b[0;34m=\u001b[0m\u001b[0;32mNone\u001b[0m\u001b[0;34m,\u001b[0m \u001b[0mkeepdims\u001b[0m\u001b[0;34m=\u001b[0m\u001b[0;32mFalse\u001b[0m\u001b[0;34m)\u001b[0m\u001b[0;34m:\u001b[0m\u001b[0;34m\u001b[0m\u001b[0;34m\u001b[0m\u001b[0m\n\u001b[0m\u001b[1;32m     45\u001b[0m     \u001b[0;32mreturn\u001b[0m \u001b[0mumr_any\u001b[0m\u001b[0;34m(\u001b[0m\u001b[0ma\u001b[0m\u001b[0;34m,\u001b[0m \u001b[0maxis\u001b[0m\u001b[0;34m,\u001b[0m \u001b[0mdtype\u001b[0m\u001b[0;34m,\u001b[0m \u001b[0mout\u001b[0m\u001b[0;34m,\u001b[0m \u001b[0mkeepdims\u001b[0m\u001b[0;34m)\u001b[0m\u001b[0;34m\u001b[0m\u001b[0;34m\u001b[0m\u001b[0m\n\u001b[1;32m     46\u001b[0m \u001b[0;34m\u001b[0m\u001b[0m\n",
      "\u001b[0;31mKeyboardInterrupt\u001b[0m: "
     ]
    }
   ],
   "source": [
    "\"\"\"\n",
    "Interpolate the decadal urban raw data to get annual data\n",
    "@author: Keer Zhang\n",
    "\"\"\"\n",
    "import numpy as np\n",
    "import netCDF4 as nc \n",
    "from netCDF4 import Dataset\n",
    "from datetime import datetime\n",
    "\n",
    "# Interpolate the decadal urban raw data under different SSP scenarios\n",
    "for k in range(1,2):\n",
    "    Scenario=str(k)\n",
    "    for i in range(2,11,1):\n",
    "        NewRawThisDecade = nc.Dataset('/glade/scratch/keerzhang/THESIS_pcturb_grid/urban_properties_180622_release/Output/SSP'+Scenario+'/urban_properties_GaoOneil_05deg_ThreeClass_ssp'+Scenario+'_2'+str(i).zfill(2)+'0_c20220910.nc')#   \n",
    "        NewRawLastDecade = nc.Dataset('/glade/scratch/keerzhang/THESIS_pcturb_grid/urban_properties_180622_release/Output/SSP'+Scenario+'/urban_properties_GaoOneil_05deg_ThreeClass_ssp'+Scenario+'_2'+str(i-1).zfill(2)+'0_c20220910.nc')\n",
    "\n",
    "        PCT_URBAN_ThisDecade=NewRawThisDecade.variables[\"PCT_URBAN\"][:,:,:] # this decade\n",
    "        PCT_URBAN_LastDecade=NewRawLastDecade.variables[\"PCT_URBAN\"][:,:,:] # last decade\n",
    "        if i==2: #calculate urban raw data from 2015 to 2020\n",
    "            for j in range(5,10):\n",
    "                PCT_URBAN_Inter=(PCT_URBAN_LastDecade*(10-j)+PCT_URBAN_ThisDecade*j)/10.0\n",
    "                NewRaw20XX_Inter = nc.Dataset('/glade/scratch/keerzhang/THESIS_pcturb_grid/urban_properties_180622_release/Output/SSP'+Scenario+'/urban_properties_GaoOneil_05deg_ThreeClass_ssp'+Scenario+'_20'+str(10*i-10+j)+'_c20220910.nc', 'r+', format='NETCDF4_CLASSIC')#   \n",
    "                NewRaw20XX_Inter.variables[\"PCT_URBAN\"][:]=PCT_URBAN_Inter\n",
    "                NewRaw20XX_Inter.close()\n",
    "        else:\n",
    "            for j in range(1,10):\n",
    "                PCT_URBAN_Inter=(PCT_URBAN_LastDecade*(10-j)+PCT_URBAN_ThisDecade*j)/10.0\n",
    "                NewRaw20XX_Inter = nc.Dataset('/glade/scratch/keerzhang/THESIS_pcturb_grid/urban_properties_180622_release/Output/SSP'+Scenario+'/urban_properties_GaoOneil_05deg_ThreeClass_ssp'+Scenario+'_20'+str(10*i-10+j)+'_c20220910.nc', 'r+', format='NETCDF4_CLASSIC')# \n",
    "                NewRaw20XX_Inter.variables[\"PCT_URBAN\"][:]=PCT_URBAN_Inter\n",
    "                NewRaw20XX_Inter.close()\n",
    "        print('Finished interpolating ssp'+Scenario+' files from year 20'+str(10*i-10)+' to year 20'+str(10*i))\n",
    "\n",
    "# Interpolate historical files\n",
    "NewRaw2000=nc.Dataset('/glade/scratch/3keerzhang/THESIS_pcturb_grid/urban_properties_180622_release/Output/Historical/urban_properties_GaoOneil_05deg_ThreeClass_2000_c20220910.nc')\n",
    "PCT_URBAN2000=NewRaw2000.variables[\"PCT_URBAN\"][:,:,:]\n",
    "\n",
    "for k in range(1,6):\n",
    "    Scenario=str(k)\n",
    "    NewRaw2010=nc.Dataset('/glade/scratch/keerzhang/THESIS_pcturb_grid/urban_properties_180622_release/Output/SSP'+Scenario+'/urban_properties_GaoOneil_05deg_ThreeClass_ssp'+Scenario+'_2010_c20220910.nc')\n",
    "    NewRaw2020=nc.Dataset('/glade/scratch/keerzhang/THESIS_pcturb_grid/urban_properties_180622_release/Output/SSP'+Scenario+'/urban_properties_GaoOneil_05deg_ThreeClass_ssp'+Scenario+'_2020_c20220910.nc')\n",
    "    PCT_URBAN2010=NewRaw2010.variables[\"PCT_URBAN\"][:,:,:] \n",
    "    PCT_URBAN2020=NewRaw2020.variables[\"PCT_URBAN\"][:,:,:]   \n",
    "    if k==1:\n",
    "        PCT_URBAN2010Mean=PCT_URBAN2010/5.0\n",
    "        PCT_URBAN2020Mean=PCT_URBAN2020/5.0\n",
    "    if k>1:\n",
    "        PCT_URBAN2010Mean=PCT_URBAN2010Mean+PCT_URBAN2010/5.0\n",
    "        PCT_URBAN2020Mean=PCT_URBAN2020Mean+PCT_URBAN2020/5.0\n",
    "        \n",
    "for j in range(1,11): #generating 2001-2010 files\n",
    "    PCT_URBAN_Inter=(PCT_URBAN2000*(10-j)+PCT_URBAN2010Mean*j)/10.0\n",
    "    NewRaw20XX_Inter = nc.Dataset('/glade/scratch/keerzhang/THESIS_pcturb_grid/urban_properties_180622_release/Output/Historical/urban_properties_GaoOneil_05deg_ThreeClass_20'+str(j).zfill(2)+'_c20220910.nc', 'r+', format='NETCDF4_CLASSIC')# \n",
    "    NewRaw20XX_Inter.variables[\"PCT_URBAN\"][:]=PCT_URBAN_Inter\n",
    "    NewRaw20XX_Inter.close()   \n",
    "    \n",
    "for j in range(1,5):\n",
    "    PCT_URBAN_Inter=(PCT_URBAN2010Mean*(10-j)+PCT_URBAN2020Mean*j)/10.0\n",
    "    NewRaw20XX_Inter = nc.Dataset('/glade/scratch/keerzhang/THESIS_pcturb_grid/urban_properties_180622_release/Output/Historical/urban_properties_GaoOneil_05deg_ThreeClass_20'+str(10+j)+'_c20220910.nc', 'r+', format='NETCDF4_CLASSIC')#   \n",
    "    NewRaw20XX_Inter.variables[\"PCT_URBAN\"][:]=PCT_URBAN_Inter\n",
    "    NewRaw20XX_Inter.close()\n",
    "print('Finished interpolating historical urban raw data from year 2000 to 2014')"
   ]
  },
  {
   "cell_type": "code",
   "execution_count": null,
   "metadata": {},
   "outputs": [],
   "source": []
  }
 ],
 "metadata": {
  "kernelspec": {
   "display_name": "Python 3 (ipykernel)",
   "language": "python",
   "name": "python3"
  },
  "language_info": {
   "codemirror_mode": {
    "name": "ipython",
    "version": 3
   },
   "file_extension": ".py",
   "mimetype": "text/x-python",
   "name": "python",
   "nbconvert_exporter": "python",
   "pygments_lexer": "ipython3",
   "version": "3.9.12"
  }
 },
 "nbformat": 4,
 "nbformat_minor": 4
}
